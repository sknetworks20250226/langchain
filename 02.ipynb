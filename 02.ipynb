{
 "cells": [
  {
   "cell_type": "markdown",
   "id": "dcd3d865",
   "metadata": {},
   "source": [
    "```\n",
    "Langchain 을 활용한 모델 사용,비용 모니터링 및 캐싱 전략\n",
    "    GPT-4o-mini  GPT-3.5-Turbo 비용이 60% 저렴\n",
    "    LangChain V0.3x 부터 openAi가 별도 패키지로 분리 필요 패키지를 설치 langchain-openai 필요 \n",
    "    토큰사용량 추적, 캐싱을 위한 langchain-community도 별도설치\n",
    "    환경변수 변수 관리 패키지 python-dotevn\n",
    "```\n"
   ]
  },
  {
   "cell_type": "code",
   "execution_count": 2,
   "id": "a17fb113",
   "metadata": {},
   "outputs": [
    {
     "name": "stdout",
     "output_type": "stream",
     "text": [
      "Requirement already satisfied: langchain-openai in c:\\users\\user\\miniconda3\\envs\\llm\\lib\\site-packages (0.3.18)\n",
      "Collecting langchain-community\n",
      "  Downloading langchain_community-0.3.24-py3-none-any.whl.metadata (2.5 kB)\n",
      "Requirement already satisfied: python-dotenv in c:\\users\\user\\miniconda3\\envs\\llm\\lib\\site-packages (1.1.0)\n",
      "Requirement already satisfied: openai in c:\\users\\user\\miniconda3\\envs\\llm\\lib\\site-packages (1.82.0)\n",
      "Requirement already satisfied: langchain-core<1.0.0,>=0.3.61 in c:\\users\\user\\miniconda3\\envs\\llm\\lib\\site-packages (from langchain-openai) (0.3.61)\n",
      "Requirement already satisfied: tiktoken<1,>=0.7 in c:\\users\\user\\miniconda3\\envs\\llm\\lib\\site-packages (from langchain-openai) (0.9.0)\n",
      "Requirement already satisfied: anyio<5,>=3.5.0 in c:\\users\\user\\miniconda3\\envs\\llm\\lib\\site-packages (from openai) (4.7.0)\n",
      "Requirement already satisfied: distro<2,>=1.7.0 in c:\\users\\user\\miniconda3\\envs\\llm\\lib\\site-packages (from openai) (1.9.0)\n",
      "Requirement already satisfied: httpx<1,>=0.23.0 in c:\\users\\user\\miniconda3\\envs\\llm\\lib\\site-packages (from openai) (0.28.1)\n",
      "Requirement already satisfied: jiter<1,>=0.4.0 in c:\\users\\user\\miniconda3\\envs\\llm\\lib\\site-packages (from openai) (0.6.1)\n",
      "Requirement already satisfied: pydantic<3,>=1.9.0 in c:\\users\\user\\miniconda3\\envs\\llm\\lib\\site-packages (from openai) (2.10.3)\n",
      "Requirement already satisfied: sniffio in c:\\users\\user\\miniconda3\\envs\\llm\\lib\\site-packages (from openai) (1.3.0)\n",
      "Requirement already satisfied: tqdm>4 in c:\\users\\user\\miniconda3\\envs\\llm\\lib\\site-packages (from openai) (4.67.1)\n",
      "Requirement already satisfied: typing-extensions<5,>=4.11 in c:\\users\\user\\miniconda3\\envs\\llm\\lib\\site-packages (from openai) (4.13.2)\n",
      "Requirement already satisfied: exceptiongroup>=1.0.2 in c:\\users\\user\\miniconda3\\envs\\llm\\lib\\site-packages (from anyio<5,>=3.5.0->openai) (1.3.0)\n",
      "Requirement already satisfied: idna>=2.8 in c:\\users\\user\\miniconda3\\envs\\llm\\lib\\site-packages (from anyio<5,>=3.5.0->openai) (3.7)\n",
      "Requirement already satisfied: certifi in c:\\users\\user\\miniconda3\\envs\\llm\\lib\\site-packages (from httpx<1,>=0.23.0->openai) (2025.4.26)\n",
      "Requirement already satisfied: httpcore==1.* in c:\\users\\user\\miniconda3\\envs\\llm\\lib\\site-packages (from httpx<1,>=0.23.0->openai) (1.0.2)\n",
      "Requirement already satisfied: h11<0.15,>=0.13 in c:\\users\\user\\miniconda3\\envs\\llm\\lib\\site-packages (from httpcore==1.*->httpx<1,>=0.23.0->openai) (0.14.0)\n",
      "Requirement already satisfied: langsmith<0.4,>=0.1.126 in c:\\users\\user\\miniconda3\\envs\\llm\\lib\\site-packages (from langchain-core<1.0.0,>=0.3.61->langchain-openai) (0.3.42)\n",
      "Requirement already satisfied: tenacity!=8.4.0,<10.0.0,>=8.1.0 in c:\\users\\user\\miniconda3\\envs\\llm\\lib\\site-packages (from langchain-core<1.0.0,>=0.3.61->langchain-openai) (9.1.2)\n",
      "Requirement already satisfied: jsonpatch<2.0,>=1.33 in c:\\users\\user\\miniconda3\\envs\\llm\\lib\\site-packages (from langchain-core<1.0.0,>=0.3.61->langchain-openai) (1.33)\n",
      "Requirement already satisfied: PyYAML>=5.3 in c:\\users\\user\\miniconda3\\envs\\llm\\lib\\site-packages (from langchain-core<1.0.0,>=0.3.61->langchain-openai) (6.0.2)\n",
      "Requirement already satisfied: packaging<25,>=23.2 in c:\\users\\user\\miniconda3\\envs\\llm\\lib\\site-packages (from langchain-core<1.0.0,>=0.3.61->langchain-openai) (24.2)\n",
      "Requirement already satisfied: jsonpointer>=1.9 in c:\\users\\user\\miniconda3\\envs\\llm\\lib\\site-packages (from jsonpatch<2.0,>=1.33->langchain-core<1.0.0,>=0.3.61->langchain-openai) (3.0.0)\n",
      "Requirement already satisfied: orjson<4.0.0,>=3.9.14 in c:\\users\\user\\miniconda3\\envs\\llm\\lib\\site-packages (from langsmith<0.4,>=0.1.126->langchain-core<1.0.0,>=0.3.61->langchain-openai) (3.10.18)\n",
      "Requirement already satisfied: requests<3,>=2 in c:\\users\\user\\miniconda3\\envs\\llm\\lib\\site-packages (from langsmith<0.4,>=0.1.126->langchain-core<1.0.0,>=0.3.61->langchain-openai) (2.32.3)\n",
      "Requirement already satisfied: requests-toolbelt<2.0.0,>=1.0.0 in c:\\users\\user\\miniconda3\\envs\\llm\\lib\\site-packages (from langsmith<0.4,>=0.1.126->langchain-core<1.0.0,>=0.3.61->langchain-openai) (1.0.0)\n",
      "Requirement already satisfied: zstandard<0.24.0,>=0.23.0 in c:\\users\\user\\miniconda3\\envs\\llm\\lib\\site-packages (from langsmith<0.4,>=0.1.126->langchain-core<1.0.0,>=0.3.61->langchain-openai) (0.23.0)\n",
      "Requirement already satisfied: annotated-types>=0.6.0 in c:\\users\\user\\miniconda3\\envs\\llm\\lib\\site-packages (from pydantic<3,>=1.9.0->openai) (0.6.0)\n",
      "Requirement already satisfied: pydantic-core==2.27.1 in c:\\users\\user\\miniconda3\\envs\\llm\\lib\\site-packages (from pydantic<3,>=1.9.0->openai) (2.27.1)\n",
      "Requirement already satisfied: charset-normalizer<4,>=2 in c:\\users\\user\\miniconda3\\envs\\llm\\lib\\site-packages (from requests<3,>=2->langsmith<0.4,>=0.1.126->langchain-core<1.0.0,>=0.3.61->langchain-openai) (3.3.2)\n",
      "Requirement already satisfied: urllib3<3,>=1.21.1 in c:\\users\\user\\miniconda3\\envs\\llm\\lib\\site-packages (from requests<3,>=2->langsmith<0.4,>=0.1.126->langchain-core<1.0.0,>=0.3.61->langchain-openai) (2.3.0)\n",
      "Requirement already satisfied: regex>=2022.1.18 in c:\\users\\user\\miniconda3\\envs\\llm\\lib\\site-packages (from tiktoken<1,>=0.7->langchain-openai) (2024.11.6)\n",
      "Requirement already satisfied: langchain<1.0.0,>=0.3.25 in c:\\users\\user\\miniconda3\\envs\\llm\\lib\\site-packages (from langchain-community) (0.3.25)\n",
      "Requirement already satisfied: SQLAlchemy<3,>=1.4 in c:\\users\\user\\miniconda3\\envs\\llm\\lib\\site-packages (from langchain-community) (2.0.41)\n",
      "Requirement already satisfied: aiohttp<4.0.0,>=3.8.3 in c:\\users\\user\\miniconda3\\envs\\llm\\lib\\site-packages (from langchain-community) (3.11.10)\n",
      "Collecting dataclasses-json<0.7,>=0.5.7 (from langchain-community)\n",
      "  Downloading dataclasses_json-0.6.7-py3-none-any.whl.metadata (25 kB)\n",
      "Collecting pydantic-settings<3.0.0,>=2.4.0 (from langchain-community)\n",
      "  Downloading pydantic_settings-2.9.1-py3-none-any.whl.metadata (3.8 kB)\n",
      "Collecting httpx-sse<1.0.0,>=0.4.0 (from langchain-community)\n",
      "  Downloading httpx_sse-0.4.0-py3-none-any.whl.metadata (9.0 kB)\n",
      "Requirement already satisfied: numpy>=1.26.2 in c:\\users\\user\\miniconda3\\envs\\llm\\lib\\site-packages (from langchain-community) (1.26.4)\n",
      "Requirement already satisfied: aiohappyeyeballs>=2.3.0 in c:\\users\\user\\miniconda3\\envs\\llm\\lib\\site-packages (from aiohttp<4.0.0,>=3.8.3->langchain-community) (2.4.4)\n",
      "Requirement already satisfied: aiosignal>=1.1.2 in c:\\users\\user\\miniconda3\\envs\\llm\\lib\\site-packages (from aiohttp<4.0.0,>=3.8.3->langchain-community) (1.2.0)\n",
      "Requirement already satisfied: attrs>=17.3.0 in c:\\users\\user\\miniconda3\\envs\\llm\\lib\\site-packages (from aiohttp<4.0.0,>=3.8.3->langchain-community) (24.3.0)\n",
      "Requirement already satisfied: frozenlist>=1.1.1 in c:\\users\\user\\miniconda3\\envs\\llm\\lib\\site-packages (from aiohttp<4.0.0,>=3.8.3->langchain-community) (1.5.0)\n",
      "Requirement already satisfied: multidict<7.0,>=4.5 in c:\\users\\user\\miniconda3\\envs\\llm\\lib\\site-packages (from aiohttp<4.0.0,>=3.8.3->langchain-community) (6.1.0)\n",
      "Requirement already satisfied: propcache>=0.2.0 in c:\\users\\user\\miniconda3\\envs\\llm\\lib\\site-packages (from aiohttp<4.0.0,>=3.8.3->langchain-community) (0.3.1)\n",
      "Requirement already satisfied: yarl<2.0,>=1.17.0 in c:\\users\\user\\miniconda3\\envs\\llm\\lib\\site-packages (from aiohttp<4.0.0,>=3.8.3->langchain-community) (1.18.0)\n",
      "Requirement already satisfied: async-timeout<6.0,>=4.0 in c:\\users\\user\\miniconda3\\envs\\llm\\lib\\site-packages (from aiohttp<4.0.0,>=3.8.3->langchain-community) (4.0.3)\n",
      "Collecting marshmallow<4.0.0,>=3.18.0 (from dataclasses-json<0.7,>=0.5.7->langchain-community)\n",
      "  Downloading marshmallow-3.26.1-py3-none-any.whl.metadata (7.3 kB)\n",
      "Collecting typing-inspect<1,>=0.4.0 (from dataclasses-json<0.7,>=0.5.7->langchain-community)\n",
      "  Downloading typing_inspect-0.9.0-py3-none-any.whl.metadata (1.5 kB)\n",
      "Requirement already satisfied: langchain-text-splitters<1.0.0,>=0.3.8 in c:\\users\\user\\miniconda3\\envs\\llm\\lib\\site-packages (from langchain<1.0.0,>=0.3.25->langchain-community) (0.3.8)\n",
      "Collecting typing-inspection>=0.4.0 (from pydantic-settings<3.0.0,>=2.4.0->langchain-community)\n",
      "  Downloading typing_inspection-0.4.1-py3-none-any.whl.metadata (2.6 kB)\n",
      "Requirement already satisfied: greenlet>=1 in c:\\users\\user\\miniconda3\\envs\\llm\\lib\\site-packages (from SQLAlchemy<3,>=1.4->langchain-community) (3.2.2)\n",
      "Collecting mypy-extensions>=0.3.0 (from typing-inspect<1,>=0.4.0->dataclasses-json<0.7,>=0.5.7->langchain-community)\n",
      "  Downloading mypy_extensions-1.1.0-py3-none-any.whl.metadata (1.1 kB)\n",
      "Requirement already satisfied: colorama in c:\\users\\user\\miniconda3\\envs\\llm\\lib\\site-packages (from tqdm>4->openai) (0.4.6)\n",
      "Downloading langchain_community-0.3.24-py3-none-any.whl (2.5 MB)\n",
      "   ---------------------------------------- 0.0/2.5 MB ? eta -:--:--\n",
      "   ---------------------------------------- 2.5/2.5 MB 73.1 MB/s eta 0:00:00\n",
      "Downloading dataclasses_json-0.6.7-py3-none-any.whl (28 kB)\n",
      "Downloading httpx_sse-0.4.0-py3-none-any.whl (7.8 kB)\n",
      "Downloading marshmallow-3.26.1-py3-none-any.whl (50 kB)\n",
      "Downloading pydantic_settings-2.9.1-py3-none-any.whl (44 kB)\n",
      "Downloading typing_inspect-0.9.0-py3-none-any.whl (8.8 kB)\n",
      "Downloading mypy_extensions-1.1.0-py3-none-any.whl (5.0 kB)\n",
      "Downloading typing_inspection-0.4.1-py3-none-any.whl (14 kB)\n",
      "Installing collected packages: typing-inspection, mypy-extensions, marshmallow, httpx-sse, typing-inspect, pydantic-settings, dataclasses-json, langchain-community\n",
      "\n",
      "   ------------------------- -------------- 5/8 [pydantic-settings]\n",
      "   ----------------------------------- ---- 7/8 [langchain-community]\n",
      "   ----------------------------------- ---- 7/8 [langchain-community]\n",
      "   ----------------------------------- ---- 7/8 [langchain-community]\n",
      "   ----------------------------------- ---- 7/8 [langchain-community]\n",
      "   ----------------------------------- ---- 7/8 [langchain-community]\n",
      "   ----------------------------------- ---- 7/8 [langchain-community]\n",
      "   ----------------------------------- ---- 7/8 [langchain-community]\n",
      "   ----------------------------------- ---- 7/8 [langchain-community]\n",
      "   ----------------------------------- ---- 7/8 [langchain-community]\n",
      "   ----------------------------------- ---- 7/8 [langchain-community]\n",
      "   ----------------------------------- ---- 7/8 [langchain-community]\n",
      "   ----------------------------------- ---- 7/8 [langchain-community]\n",
      "   ----------------------------------- ---- 7/8 [langchain-community]\n",
      "   ----------------------------------- ---- 7/8 [langchain-community]\n",
      "   ----------------------------------- ---- 7/8 [langchain-community]\n",
      "   ----------------------------------- ---- 7/8 [langchain-community]\n",
      "   ----------------------------------- ---- 7/8 [langchain-community]\n",
      "   ----------------------------------- ---- 7/8 [langchain-community]\n",
      "   ----------------------------------- ---- 7/8 [langchain-community]\n",
      "   ----------------------------------- ---- 7/8 [langchain-community]\n",
      "   ----------------------------------- ---- 7/8 [langchain-community]\n",
      "   ----------------------------------- ---- 7/8 [langchain-community]\n",
      "   ----------------------------------- ---- 7/8 [langchain-community]\n",
      "   ----------------------------------- ---- 7/8 [langchain-community]\n",
      "   ----------------------------------- ---- 7/8 [langchain-community]\n",
      "   ----------------------------------- ---- 7/8 [langchain-community]\n",
      "   ----------------------------------- ---- 7/8 [langchain-community]\n",
      "   ----------------------------------- ---- 7/8 [langchain-community]\n",
      "   ----------------------------------- ---- 7/8 [langchain-community]\n",
      "   ---------------------------------------- 8/8 [langchain-community]\n",
      "\n",
      "Successfully installed dataclasses-json-0.6.7 httpx-sse-0.4.0 langchain-community-0.3.24 marshmallow-3.26.1 mypy-extensions-1.1.0 pydantic-settings-2.9.1 typing-inspect-0.9.0 typing-inspection-0.4.1\n",
      "Note: you may need to restart the kernel to use updated packages.\n"
     ]
    }
   ],
   "source": [
    "%pip install langchain-openai langchain-community python-dotenv openai"
   ]
  },
  {
   "cell_type": "code",
   "execution_count": 3,
   "id": "ead6e885",
   "metadata": {},
   "outputs": [
    {
     "data": {
      "text/plain": [
       "True"
      ]
     },
     "execution_count": 3,
     "metadata": {},
     "output_type": "execute_result"
    }
   ],
   "source": [
    "from dotenv import load_dotenv\n",
    "load_dotenv()"
   ]
  },
  {
   "cell_type": "code",
   "execution_count": 5,
   "id": "da1fa956",
   "metadata": {},
   "outputs": [
    {
     "data": {
      "text/plain": [
       "'LangChain은 언어 모델을 활용하여 다양한 애플리케이션을 구축할 수 있도록 지원하는 프레임워크입니다.'"
      ]
     },
     "execution_count": 5,
     "metadata": {},
     "output_type": "execute_result"
    }
   ],
   "source": [
    "from langchain_openai import ChatOpenAI\n",
    "llm = ChatOpenAI(model='gpt-4o-mini',temperature=0.7)  # dotenv 를 하면 자동으로 OPENAI_API_KEY 참조\n",
    "prompt = 'LangChain에 대해 한 문장으로 설명해줘'\n",
    "result = llm.invoke(prompt)\n",
    "result.content"
   ]
  },
  {
   "cell_type": "code",
   "execution_count": 6,
   "id": "23d99cef",
   "metadata": {},
   "outputs": [
    {
     "data": {
      "text/plain": [
       "{'input_tokens': 18,\n",
       " 'output_tokens': 28,\n",
       " 'total_tokens': 46,\n",
       " 'input_token_details': {'audio': 0, 'cache_read': 0},\n",
       " 'output_token_details': {'audio': 0, 'reasoning': 0}}"
      ]
     },
     "execution_count": 6,
     "metadata": {},
     "output_type": "execute_result"
    }
   ],
   "source": [
    "#사용량\n",
    "result.usage_metadata"
   ]
  },
  {
   "cell_type": "code",
   "execution_count": 7,
   "id": "e6f35810",
   "metadata": {},
   "outputs": [
    {
     "name": "stdout",
     "output_type": "stream",
     "text": [
      "응답1 죄송하지만, 실시간 ...\n",
      "응답2 랭체인(LangCh ...\n",
      "총 토큰수: 856\n",
      "프롬프트 토큰수: 39\n",
      "응답 토큰수: 817\n",
      "비용(USD): 0.0004960499999999999\n"
     ]
    }
   ],
   "source": [
    "# 콜벡함수를 통한 누적 토큰 추적(get_openai_callback)\n",
    "from langchain_community.callbacks import get_openai_callback\n",
    "with get_openai_callback() as cb:\n",
    "    # 첫번째 호출\n",
    "    res1 = llm.invoke('서울의 오늘 날씨는 어떤지 알려줘?')\n",
    "    print('응답1', res1.content[:10],'...')\n",
    "    # 두번째 호출\n",
    "    res2 = llm.invoke('파이썬으로 랭체인 사용법을 알려줘')\n",
    "    print('응답2', res2.content[:10],'...')\n",
    "\n",
    "# 누적 토큰 사용량 출력  콜백 cb에는 블록 내 전체 토큰 사용량이 누적\n",
    "# 총 토큰수\n",
    "print('총 토큰수:', cb.total_tokens)\n",
    "# 프롬프트 토큰수\n",
    "print('프롬프트 토큰수:', cb.prompt_tokens)\n",
    "# 응답 토큰수\n",
    "print('응답 토큰수:', cb.completion_tokens)\n",
    "# 비용 계산\n",
    "print('비용(USD):', cb.total_cost)\n"
   ]
  },
  {
   "cell_type": "code",
   "execution_count": null,
   "id": "d20b8c04",
   "metadata": {},
   "outputs": [],
   "source": [
    "# LangChain의 LLM 응답캐싱 (InMemory Cache, SQLiteCache)\n",
    "# 동일한 질문은 저장해 뒀다가 응답에 사용"
   ]
  },
  {
   "cell_type": "code",
   "execution_count": null,
   "id": "0e706b8a",
   "metadata": {},
   "outputs": [],
   "source": []
  }
 ],
 "metadata": {
  "kernelspec": {
   "display_name": "LLM",
   "language": "python",
   "name": "python3"
  },
  "language_info": {
   "codemirror_mode": {
    "name": "ipython",
    "version": 3
   },
   "file_extension": ".py",
   "mimetype": "text/x-python",
   "name": "python",
   "nbconvert_exporter": "python",
   "pygments_lexer": "ipython3",
   "version": "3.10.17"
  }
 },
 "nbformat": 4,
 "nbformat_minor": 5
}
