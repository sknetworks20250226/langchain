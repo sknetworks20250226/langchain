{
 "cells": [
  {
   "cell_type": "markdown",
   "id": "3082527d",
   "metadata": {},
   "source": [
    "LangChainMemory \n",
    "```\n",
    "이전 대화 내용을 기억해서 문맥을 유지하는 역활 LangChain 0.3X부터는 LCEL 기반으로 체인을 구성, RunnableWithMessageHistory, ChatMessageHistory 등의 컴포넌트를 활용해서 세션별 대화 기록을 관리, 대화가 장기화될 경우 요약 메모리를 도입해서 과거 대화를 LLM으로 요약하고 축약된 형태로 저장해서 프롬프트의 길이문제를 해결\n",
    "```"
   ]
  },
  {
   "cell_type": "code",
   "execution_count": 8,
   "id": "800dd466",
   "metadata": {},
   "outputs": [
    {
     "name": "stdout",
     "output_type": "stream",
     "text": [
      "Note: you may need to restart the kernel to use updated packages.\n"
     ]
    }
   ],
   "source": [
    "%pip install --quiet langchain langchain-openai python-dotenv langchain_redis"
   ]
  },
  {
   "cell_type": "code",
   "execution_count": 3,
   "id": "32d592e7",
   "metadata": {},
   "outputs": [
    {
     "data": {
      "text/plain": [
       "True"
      ]
     },
     "execution_count": 3,
     "metadata": {},
     "output_type": "execute_result"
    }
   ],
   "source": [
    "from dotenv import load_dotenv\n",
    "load_dotenv()"
   ]
  },
  {
   "cell_type": "code",
   "execution_count": 7,
   "id": "c7a75b51",
   "metadata": {},
   "outputs": [
    {
     "name": "stdout",
     "output_type": "stream",
     "text": [
      "human : 안녕하세요 제 이름은 홍길동 입니다.\n",
      "ai : 안녕하세요 홍길동님, 무엇을 도와드릴까요?\n"
     ]
    }
   ],
   "source": [
    "from langchain_core.chat_history import  InMemoryChatMessageHistory\n",
    "# 메모리 객체 생성\n",
    "history =  InMemoryChatMessageHistory()\n",
    "history.add_user_message(\"안녕하세요 제 이름은 홍길동 입니다.\")\n",
    "history.add_ai_message('안녕하세요 홍길동님, 무엇을 도와드릴까요?')\n",
    "# 현재까지의 대화 내용 확인\n",
    "for msg in history.messages:\n",
    "    print(f'{msg.type} : {msg.content}')"
   ]
  },
  {
   "cell_type": "code",
   "execution_count": null,
   "id": "cec19534",
   "metadata": {},
   "outputs": [
    {
     "data": {
      "text/plain": [
       "InMemoryChatMessageHistory(messages=[HumanMessage(content='안녕하세요 제 이름은 홍길동 입니다.', additional_kwargs={}, response_metadata={}), AIMessage(content='안녕하세요 홍길동님, 무엇을 도와드릴까요?', additional_kwargs={}, response_metadata={})])"
      ]
     },
     "execution_count": 5,
     "metadata": {},
     "output_type": "execute_result"
    }
   ],
   "source": [
    "# Radis 기반 채팅 기록 저장소\n",
    "from langchain_redis import RedisChatMessageHistory\n",
    "import os\n",
    "REDIS_URL = os.getenv(\"REDIS_URL\", \"redis://localhost:6379\")\n",
    "session_id = 'user_123'\n",
    "history =  RedisChatMessageHistory(session_id=session_id, redis_url=REDIS_URL)\n",
    "history.add_user_message(\"안녕하세요 제 이름은 홍길동 입니다.\")\n",
    "history.add_ai_message('안녕하세요 홍길동님, 무엇을 도와드릴까요?')\n",
    "# 현재까지의 대화 내용 확인\n",
    "for msg in history.messages:\n",
    "    print(f'{msg.type} : {msg.content}')"
   ]
  },
  {
   "cell_type": "code",
   "execution_count": 9,
   "id": "e4b2a1f2",
   "metadata": {},
   "outputs": [],
   "source": [
    "# 세션기반 다중사용자 메모리 구조 구현 - 다중사용자 챗봇\n",
    "# 핵심 :session_id를 키로 하는 메모리 저장소만들고 사용자의 대화는 키별로 저장한다.\n",
    "from langchain_core.prompts import  ChatPromptTemplate, MessagesPlaceholder\n",
    "from langchain_openai import ChatOpenAI\n",
    "# 프롬프트\n",
    "prompt = ChatPromptTemplate.from_messages([\n",
    "    (\"system\",'당신은 뛰어난 한국어 상담 챗봇입니다 질문에 친절하고 자세히 답변해주세요'),\n",
    "    # history키로 전달된 메세지 목록은 체인 실행시 해당 위치에 넣겠다는 의미\n",
    "    MessagesPlaceholder(variable_name='history'), \n",
    "    ('human','{input}')\n",
    "])\n",
    "llm = ChatOpenAI(model='GPT-4o-mini',temperature=0)"
   ]
  },
  {
   "cell_type": "code",
   "execution_count": 10,
   "id": "80e37500",
   "metadata": {},
   "outputs": [],
   "source": [
    "# LCEL\n",
    "from langchain_core.output_parsers import StrOutputParser\n",
    "chain = prompt | llm | StrOutputParser()"
   ]
  },
  {
   "cell_type": "code",
   "execution_count": null,
   "id": "a4225186",
   "metadata": {},
   "outputs": [],
   "source": []
  }
 ],
 "metadata": {
  "kernelspec": {
   "display_name": "LLM",
   "language": "python",
   "name": "python3"
  },
  "language_info": {
   "codemirror_mode": {
    "name": "ipython",
    "version": 3
   },
   "file_extension": ".py",
   "mimetype": "text/x-python",
   "name": "python",
   "nbconvert_exporter": "python",
   "pygments_lexer": "ipython3",
   "version": "3.10.17"
  }
 },
 "nbformat": 4,
 "nbformat_minor": 5
}
