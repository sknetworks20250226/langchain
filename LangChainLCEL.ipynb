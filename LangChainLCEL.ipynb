{
 "cells": [
  {
   "cell_type": "markdown",
   "id": "c9a8eb77",
   "metadata": {},
   "source": [
    "최신 체인 구성방법 V0.3\n",
    "```\n",
    "LLMChain, SequentialChain 등과 같이 클래스의존도를 줄임\n",
    "Runnable 공통인터페이스를 통해 일관성을 유지\n",
    "핵심 : Runnable + Composition  --> 프롬프트 | 모델 | 파서\n",
    "```"
   ]
  },
  {
   "cell_type": "code",
   "execution_count": 1,
   "id": "e808451b",
   "metadata": {},
   "outputs": [],
   "source": [
    "# %pip install langchain openai python-dotenv"
   ]
  },
  {
   "cell_type": "code",
   "execution_count": 3,
   "id": "d0c4fa17",
   "metadata": {},
   "outputs": [
    {
     "name": "stdout",
     "output_type": "stream",
     "text": [
      "sk-pr****\n"
     ]
    }
   ],
   "source": [
    "from dotenv import load_dotenv\n",
    "load_dotenv() # .env파일의 내용일 읽어서 환경변수에 등록\n",
    "import os\n",
    "openai_key = os.getenv('OPENAI_API_KEY')\n",
    "print(openai_key[:5]+'****')"
   ]
  },
  {
   "cell_type": "markdown",
   "id": "72b051c3",
   "metadata": {},
   "source": [
    "단일체인 : prompt -> llm -> 출력파서 (상품설명)"
   ]
  },
  {
   "cell_type": "code",
   "execution_count": null,
   "id": "3745c974",
   "metadata": {},
   "outputs": [
    {
     "name": "stdout",
     "output_type": "stream",
     "text": [
      "제품 이름 : 선풍기\n",
      "이 제품의 특징과 장점을 잘 표현할수 있는 한개의 문장으로 만들어 주세요\n",
      ". \n",
      "\"선풍기는 시원한 바람을 제공하여 더운 여름철에도 ���적한 환경을 만들어��니다.\"\n",
      "\n",
      "\"선풍기는 강력한 바람과 조용한 작동으로 더운 여름철에도 ���적함을 유지하며, 에너지 효율성까지 갖춘 스마트한 선택입니다.\"\n",
      "\n",
      "<|ghreview|>I'm sorry, but I can't assist with that.\n"
     ]
    }
   ],
   "source": [
    "from langchain.prompts import PromptTemplate\n",
    "from langchain_core.output_parsers import StrOutputParser\n",
    "from langchain_openai import ChatOpenAI\n",
    "\n",
    "# 1. 프롬프트 탬플릿을 정의\n",
    "product_prompt = PromptTemplate.from_template(\n",
    "    \"제품 이름 : {product}\\n\"\n",
    "    \"이 제품의 특징과 장점을 잘 표현할수 있는 한개의 문장으로 만들어 주세요\"\n",
    ")\n",
    "print(product_prompt.format(product = '선풍기'))\n",
    "# 2. 출력파서 정의\n",
    "output_parser = StrOutputParser()\n",
    "\n",
    "# 3. llm 정의\n",
    "llm = ChatOpenAI(model='gpt-4o-mini',temperature=0)\n",
    "\n",
    "# 4. LCEL 체인 구성 프롬프트->모델->출력파서\n",
    "proudct_chain = product_prompt | llm | output_parser  # runnable 객체\n",
    "\n",
    "result = proudct_chain.invoke({'product' : '선풍기'})\n",
    "\n",
    "print(result)\n",
    "\n"
   ]
  },
  {
   "cell_type": "code",
   "execution_count": 11,
   "id": "6a90e96f",
   "metadata": {},
   "outputs": [
    {
     "name": "stdout",
     "output_type": "stream",
     "text": [
      " 호랑이는 _________. \n",
      "\n",
      "이 문장에 적합한 단어를 넣어 보세요. \n",
      "\n",
      "예시: 호랑이는 ��속에서 친구를 찾고 있었습니다. \n",
      "\n",
      "이런 식으로 자신의 이야기를 만들어 보세요.\n",
      "\n",
      "호랑이는 매일 아침 ��속을 돌아다니며 먹이를 찾고 있었습니다. 하지만 어느 날, ��속에서 특별한 친구를 만났습니다. 그 친구는 _________. \n",
      "\n",
      "여기서 적합한 단어를 선택해 보세요! 예를 들어: 그 친구는 귀여운 토끼였습니다. \n",
      "\n",
      "이렇게 이야기를 계속 이어나가 보세요!\n"
     ]
    }
   ],
   "source": [
    "# OpenAI는 Text completion  문장을 이어서 완성하는 모델...\n",
    "# text-davinci 모델을 위한 라이브러리 이전방식이라서 .역활기반 템플릿이 없고 단순한 prompt\n",
    "\n",
    "from langchain_openai import OpenAI\n",
    "llm = OpenAI(model='gpt-4o-mini',temperature=0.7)\n",
    "print(llm.invoke('다음 문장을 완성하세요: 옛날옛적에 호랑이가 살았습니다.'))\n"
   ]
  },
  {
   "cell_type": "code",
   "execution_count": null,
   "id": "2774b2b7",
   "metadata": {},
   "outputs": [],
   "source": []
  }
 ],
 "metadata": {
  "kernelspec": {
   "display_name": "LLM",
   "language": "python",
   "name": "python3"
  },
  "language_info": {
   "codemirror_mode": {
    "name": "ipython",
    "version": 3
   },
   "file_extension": ".py",
   "mimetype": "text/x-python",
   "name": "python",
   "nbconvert_exporter": "python",
   "pygments_lexer": "ipython3",
   "version": "3.10.17"
  }
 },
 "nbformat": 4,
 "nbformat_minor": 5
}
