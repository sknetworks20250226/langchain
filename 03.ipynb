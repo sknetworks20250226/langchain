{
 "cells": [
  {
   "cell_type": "markdown",
   "id": "294cce1e",
   "metadata": {},
   "source": [
    "LangChain 프롬프트 템플릿\n",
    "```\n",
    "LLM 프롬프트를 동적으로 구성하고 재 사용할 수 있도록 해 주는 도구\n",
    "    단일입력 : 하나의 변수로 구성된 프롬프트 템플릿\n",
    "    다중입력 : 둘 이상의 변수를 사용하는 템플릿\n",
    "    ChatPromptTemplate 역할 기반 프롬프트 : 시스템/사용자 역활별 프롬프트 구성 .from_message()\n",
    "    PartialPromptTemplate 활용 : 프롬프트 일부를 미리 고정하고 부분포멧팅을 사용(ex 시스템 메시지는 고정,,)\n",
    "    프롬프트 출력 및 체인 실행 : LCEL\n",
    "    프롬프트 작성 팁: 주의사항 및 모범사례\n",
    "```"
   ]
  },
  {
   "cell_type": "code",
   "execution_count": 3,
   "id": "b2f0cd5f",
   "metadata": {},
   "outputs": [
    {
     "name": "stdout",
     "output_type": "stream",
     "text": [
      "Note: you may need to restart the kernel to use updated packages.\n"
     ]
    }
   ],
   "source": [
    "#  환경설정\n",
    "%pip install --quiet langchain langchain-openai python-dotenv "
   ]
  },
  {
   "cell_type": "code",
   "execution_count": 4,
   "id": "1ba786d7",
   "metadata": {},
   "outputs": [
    {
     "data": {
      "text/plain": [
       "True"
      ]
     },
     "execution_count": 4,
     "metadata": {},
     "output_type": "execute_result"
    }
   ],
   "source": [
    "from dotenv import load_dotenv\n",
    "load_dotenv()"
   ]
  },
  {
   "cell_type": "code",
   "execution_count": 9,
   "id": "dfa997d3",
   "metadata": {},
   "outputs": [
    {
     "name": "stdout",
     "output_type": "stream",
     "text": [
      "당신은 최고 수준의 마케팅 카피라이터 입니다.\n",
      "아래 제품의 매력적인 홍보문구를 100자 내외로 작성해 주세요.\n",
      "\n",
      "제품명 : 이클립스\n"
     ]
    }
   ],
   "source": [
    "# 단일 프롬프트 사용\n",
    "from langchain.prompts import PromptTemplate\n",
    "# 템플릿 문자열 정의\n",
    "template_str = (\n",
    "    \"당신은 최고 수준의 마케팅 카피라이터 입니다.\\n\"\n",
    "    \"아래 제품의 매력적인 홍보문구를 100자 내외로 작성해 주세요.\\n\\n\"\n",
    "    \"제품명 : {product_name}\"\n",
    ")\n",
    "# PromptTemplate 객체 생성\n",
    "product_prompt = PromptTemplate.from_template(template_str)\n",
    "# 탬플릿에 값 채우기\n",
    "formatted_prompt = product_prompt.format(product_name=\"이클립스\")\n",
    "print(formatted_prompt)"
   ]
  },
  {
   "cell_type": "code",
   "execution_count": 12,
   "id": "2d087150",
   "metadata": {},
   "outputs": [
    {
     "name": "stdout",
     "output_type": "stream",
     "text": [
      "\"하루의 시작을 특별하게! 깊고 풍부한 향의 커피 한 잔으로 당신의 순간을 깨워보세요. 진정한 여유를 느껴보세요!\"\n"
     ]
    }
   ],
   "source": [
    "# 프롬프트 | llm  -> invoke\n",
    "from langchain_openai import ChatOpenAI\n",
    "llm = ChatOpenAI(model=\"gpt-4o-mini\", temperature=0)\n",
    "# Runnable 객체 생성  LCEL\n",
    "chain = product_prompt | llm\n",
    "result = chain.invoke({\"product_name\": \"커피\"})\n",
    "print(result.content)"
   ]
  },
  {
   "cell_type": "code",
   "execution_count": 14,
   "id": "afbf561a",
   "metadata": {},
   "outputs": [
    {
     "name": "stdout",
     "output_type": "stream",
     "text": [
      "아래는 뉴스 기사 제목과 키워드 입니다.\n",
      "이 정보를 바탕으로 한 문단으로 구성된 간략한 요약문을 작성하세요\n",
      "\n",
      "제목:인공지능 기술의 발전과 미래\n",
      "키워드:머신러닝,딥러닝,LLM,랭체인,산업 혁신\n"
     ]
    }
   ],
   "source": [
    "# 다중 입력\n",
    "# 다중입력 템플릿 문자열 정의\n",
    "multi_template_str = (\n",
    "    \"아래는 뉴스 기사 제목과 키워드 입니다.\\n\"\n",
    "    \"이 정보를 바탕으로 한 문단으로 구성된 간략한 요약문을 작성하세요\\n\\n\"\n",
    "    \"제목:{title}\\n\"\n",
    "    \"키워드:{keyword}\"\n",
    ")\n",
    "# 프롬프트 탬플릿 작성\n",
    "summary_prompt = PromptTemplate(template=multi_template_str, input_variables=[\"title\",\"keyword\"])\n",
    "# 포멧팅을 통해 프롬프트 값 확인\n",
    "sample_title = '인공지능 기술의 발전과 미래'\n",
    "sample_keyword = '머신러닝,딥러닝,LLM,랭체인,산업 혁신'\n",
    "formatted_summary_promptt = summary_prompt.format(title = sample_title, keyword=sample_keyword)\n",
    "print(formatted_summary_promptt)"
   ]
  },
  {
   "cell_type": "code",
   "execution_count": 16,
   "id": "692de1bc",
   "metadata": {},
   "outputs": [
    {
     "data": {
      "text/plain": [
       "'인공지능 기술의 발전은 머신러닝과 딥러닝의 혁신을 통해 가속화되고 있으며, 특히 대규모 언어 모델(LLM)과 랭체인 기술이 주목받고 있습니다. 이러한 기술들은 다양한 산업 분야에서 혁신을 이끌어내고 있으며, 기업들은 이를 활용하여 효율성을 높이고 새로운 비즈니스 모델을 창출하고 있습니다. 앞으로 인공지능은 더욱 발전하여 우리의 삶과 산업 전반에 걸쳐 큰 변화를 가져올 것으로 기대됩니다.'"
      ]
     },
     "execution_count": 16,
     "metadata": {},
     "output_type": "execute_result"
    }
   ],
   "source": [
    "# LCEL 출력\n",
    "from langchain_core.output_parsers import StrOutputParser\n",
    "parser = StrOutputParser()\n",
    "result_summary = (summary_prompt | llm | parser).invoke({\n",
    "    'title':  sample_title,\n",
    "    'keyword':sample_keyword\n",
    "})\n",
    "result_summary"
   ]
  },
  {
   "cell_type": "code",
   "execution_count": 17,
   "id": "e6098842",
   "metadata": {},
   "outputs": [],
   "source": [
    "# ChatPromptTemplate과 역활 기반 프롬프트\n",
    "# 시스템/사용자/어시스턴트 역활(role)\n",
    "# 시스템 메시지: 모델의 동작을 지시\n",
    "# 사용자 메시지: 실제 사용자의 입력\n",
    "# 어시스턴트 메시지: 이전 모델이 응답한 내용이 있드면 대화맥락유지를 위해 활용용"
   ]
  },
  {
   "cell_type": "code",
   "execution_count": null,
   "id": "a4cf5353",
   "metadata": {},
   "outputs": [],
   "source": [
    "from langchain.prompts import ChatPromptTemplate\n",
    "system_message = (\"당신은 python 분야의 뛰어난 전문가이자 조언자 입니다.\"\n",
    "                  \"사용자의 프로그래밍 질문에 대해 친절하고 이해하기 쉽게 답변해 주세요\")\n",
    "user_message = \"{question}\"\n",
    "chat_prompt = ChatPromptTemplate.from_messages([\n",
    "    (\"system\",system_message),\n",
    "    (\"user\",user_message)\n",
    "])\n",
    "# 템플릿을 이용해서 문장을 완성해 보세요 \n",
    "\n",
    "# 파이프라인을 이용해서 llm호출 및 출력\n"
   ]
  }
 ],
 "metadata": {
  "kernelspec": {
   "display_name": "LLM",
   "language": "python",
   "name": "python3"
  },
  "language_info": {
   "codemirror_mode": {
    "name": "ipython",
    "version": 3
   },
   "file_extension": ".py",
   "mimetype": "text/x-python",
   "name": "python",
   "nbconvert_exporter": "python",
   "pygments_lexer": "ipython3",
   "version": "3.10.17"
  }
 },
 "nbformat": 4,
 "nbformat_minor": 5
}
