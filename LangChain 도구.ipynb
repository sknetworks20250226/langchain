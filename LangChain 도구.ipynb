{
 "cells": [
  {
   "cell_type": "markdown",
   "id": "e6bd1f3c",
   "metadata": {},
   "source": [
    "LangChain Tool\n",
    "```\n",
    "Tool : llm에이전트가 수행할수 있는 외부기능이나 api를 말함(날씨정보나 웹검색,게산기)\n",
    "이유 : gpt는 최신정보에 접근할수 없다.\n",
    "구조 : 이름 설명 함수실행로직\n",
    "툴 호출 방식 :  GPT-4 모델들은 OpenAI의 함수호출 기능을 통해 툴을 직접 호출할수 있다다\n",
    "```\n",
    "외부 API 호출 Tool 구현(날씨API, 뉴스API)"
   ]
  },
  {
   "cell_type": "code",
   "execution_count": 1,
   "id": "987f8fe2",
   "metadata": {},
   "outputs": [
    {
     "name": "stdout",
     "output_type": "stream",
     "text": [
      "Requirement already satisfied: langchain-core in c:\\users\\user\\miniconda3\\envs\\llm\\lib\\site-packages (0.3.61)\n",
      "Requirement already satisfied: langchain-openai in c:\\users\\user\\miniconda3\\envs\\llm\\lib\\site-packages (0.3.18)\n",
      "Requirement already satisfied: openai in c:\\users\\user\\miniconda3\\envs\\llm\\lib\\site-packages (1.82.0)\n",
      "Requirement already satisfied: python-dotenv in c:\\users\\user\\miniconda3\\envs\\llm\\lib\\site-packages (1.1.0)\n",
      "Requirement already satisfied: requests in c:\\users\\user\\miniconda3\\envs\\llm\\lib\\site-packages (2.32.3)\n",
      "Requirement already satisfied: langsmith<0.4,>=0.1.126 in c:\\users\\user\\miniconda3\\envs\\llm\\lib\\site-packages (from langchain-core) (0.3.42)\n",
      "Requirement already satisfied: tenacity!=8.4.0,<10.0.0,>=8.1.0 in c:\\users\\user\\miniconda3\\envs\\llm\\lib\\site-packages (from langchain-core) (9.1.2)\n",
      "Requirement already satisfied: jsonpatch<2.0,>=1.33 in c:\\users\\user\\miniconda3\\envs\\llm\\lib\\site-packages (from langchain-core) (1.33)\n",
      "Requirement already satisfied: PyYAML>=5.3 in c:\\users\\user\\miniconda3\\envs\\llm\\lib\\site-packages (from langchain-core) (6.0.2)\n",
      "Requirement already satisfied: packaging<25,>=23.2 in c:\\users\\user\\miniconda3\\envs\\llm\\lib\\site-packages (from langchain-core) (24.2)\n",
      "Requirement already satisfied: typing-extensions>=4.7 in c:\\users\\user\\miniconda3\\envs\\llm\\lib\\site-packages (from langchain-core) (4.13.2)\n",
      "Requirement already satisfied: pydantic>=2.7.4 in c:\\users\\user\\miniconda3\\envs\\llm\\lib\\site-packages (from langchain-core) (2.10.3)\n",
      "Requirement already satisfied: jsonpointer>=1.9 in c:\\users\\user\\miniconda3\\envs\\llm\\lib\\site-packages (from jsonpatch<2.0,>=1.33->langchain-core) (3.0.0)\n",
      "Requirement already satisfied: httpx<1,>=0.23.0 in c:\\users\\user\\miniconda3\\envs\\llm\\lib\\site-packages (from langsmith<0.4,>=0.1.126->langchain-core) (0.28.1)\n",
      "Requirement already satisfied: orjson<4.0.0,>=3.9.14 in c:\\users\\user\\miniconda3\\envs\\llm\\lib\\site-packages (from langsmith<0.4,>=0.1.126->langchain-core) (3.10.18)\n",
      "Requirement already satisfied: requests-toolbelt<2.0.0,>=1.0.0 in c:\\users\\user\\miniconda3\\envs\\llm\\lib\\site-packages (from langsmith<0.4,>=0.1.126->langchain-core) (1.0.0)\n",
      "Requirement already satisfied: zstandard<0.24.0,>=0.23.0 in c:\\users\\user\\miniconda3\\envs\\llm\\lib\\site-packages (from langsmith<0.4,>=0.1.126->langchain-core) (0.23.0)\n",
      "Requirement already satisfied: charset-normalizer<4,>=2 in c:\\users\\user\\miniconda3\\envs\\llm\\lib\\site-packages (from requests) (3.3.2)\n",
      "Requirement already satisfied: idna<4,>=2.5 in c:\\users\\user\\miniconda3\\envs\\llm\\lib\\site-packages (from requests) (3.7)\n",
      "Requirement already satisfied: urllib3<3,>=1.21.1 in c:\\users\\user\\miniconda3\\envs\\llm\\lib\\site-packages (from requests) (2.4.0)\n",
      "Requirement already satisfied: certifi>=2017.4.17 in c:\\users\\user\\miniconda3\\envs\\llm\\lib\\site-packages (from requests) (2025.4.26)\n",
      "Requirement already satisfied: anyio in c:\\users\\user\\miniconda3\\envs\\llm\\lib\\site-packages (from httpx<1,>=0.23.0->langsmith<0.4,>=0.1.126->langchain-core) (4.9.0)\n",
      "Requirement already satisfied: httpcore==1.* in c:\\users\\user\\miniconda3\\envs\\llm\\lib\\site-packages (from httpx<1,>=0.23.0->langsmith<0.4,>=0.1.126->langchain-core) (1.0.9)\n",
      "Requirement already satisfied: h11>=0.16 in c:\\users\\user\\miniconda3\\envs\\llm\\lib\\site-packages (from httpcore==1.*->httpx<1,>=0.23.0->langsmith<0.4,>=0.1.126->langchain-core) (0.16.0)\n",
      "Requirement already satisfied: annotated-types>=0.6.0 in c:\\users\\user\\miniconda3\\envs\\llm\\lib\\site-packages (from pydantic>=2.7.4->langchain-core) (0.6.0)\n",
      "Requirement already satisfied: pydantic-core==2.27.1 in c:\\users\\user\\miniconda3\\envs\\llm\\lib\\site-packages (from pydantic>=2.7.4->langchain-core) (2.27.1)\n",
      "Requirement already satisfied: tiktoken<1,>=0.7 in c:\\users\\user\\miniconda3\\envs\\llm\\lib\\site-packages (from langchain-openai) (0.9.0)\n",
      "Requirement already satisfied: distro<2,>=1.7.0 in c:\\users\\user\\miniconda3\\envs\\llm\\lib\\site-packages (from openai) (1.9.0)\n",
      "Requirement already satisfied: jiter<1,>=0.4.0 in c:\\users\\user\\miniconda3\\envs\\llm\\lib\\site-packages (from openai) (0.6.1)\n",
      "Requirement already satisfied: sniffio in c:\\users\\user\\miniconda3\\envs\\llm\\lib\\site-packages (from openai) (1.3.0)\n",
      "Requirement already satisfied: tqdm>4 in c:\\users\\user\\miniconda3\\envs\\llm\\lib\\site-packages (from openai) (4.67.1)\n",
      "Requirement already satisfied: exceptiongroup>=1.0.2 in c:\\users\\user\\miniconda3\\envs\\llm\\lib\\site-packages (from anyio->httpx<1,>=0.23.0->langsmith<0.4,>=0.1.126->langchain-core) (1.3.0)\n",
      "Requirement already satisfied: regex>=2022.1.18 in c:\\users\\user\\miniconda3\\envs\\llm\\lib\\site-packages (from tiktoken<1,>=0.7->langchain-openai) (2024.11.6)\n",
      "Requirement already satisfied: colorama in c:\\users\\user\\miniconda3\\envs\\llm\\lib\\site-packages (from tqdm>4->openai) (0.4.6)\n",
      "Note: you may need to restart the kernel to use updated packages.\n"
     ]
    }
   ],
   "source": [
    "%pip install langchain-core langchain-openai openai python-dotenv requests"
   ]
  },
  {
   "cell_type": "code",
   "execution_count": 2,
   "id": "0fa54798",
   "metadata": {},
   "outputs": [
    {
     "name": "stdout",
     "output_type": "stream",
     "text": [
      "83e83\n",
      "7ca03\n"
     ]
    }
   ],
   "source": [
    "# .env 로드\n",
    "from dotenv import load_dotenv\n",
    "import os\n",
    "load_dotenv()\n",
    "\n",
    "print(os.environ[\"OPEN_WEATHER_MAP\"][:5])\n",
    "print(os.environ[\"NEWSAPI_API_KEY\"][:5])"
   ]
  },
  {
   "cell_type": "code",
   "execution_count": 3,
   "id": "3d646ce3",
   "metadata": {},
   "outputs": [],
   "source": [
    "# 날씨정보 조회 함수\n",
    "from pydantic import BaseModel, Field\n",
    "\n",
    "# 입력 스키마\n",
    "class WeatherInput(BaseModel):\n",
    "    city : str = Field(description=\"날씨를 조회할 도시 이름(영문)\")\n",
    "\n",
    "def get_weather(city: str) -> str:\n",
    "    import requests\n",
    "    api_key = os.getenv(\"OPEN_WEATHER_MAP\")\n",
    "    url = \"http://api.openweathermap.org/data/2.5/weather\"\n",
    "    params = {\n",
    "        \"q\":city,\n",
    "        \"appid\": api_key,\n",
    "        \"units\": \"metric\",  # 섭씨온도\n",
    "        \"lang\": \"kr\"  # 한국어\n",
    "    }\n",
    "    response = requests.get(url, params=params)\n",
    "    data =  response.json()\n",
    "    if data.get('cod') != 200:\n",
    "        return \"날씨 정보를 가져올 수 없습니다.\"\n",
    "    temp = data['main']['temp']\n",
    "    desc = data['weather'][0]['description']\n",
    "    return f\"{city}의 현재 기온은 {temp}도이며, 날씨는 {desc}입니다.\""
   ]
  },
  {
   "cell_type": "code",
   "execution_count": 4,
   "id": "0f1a43fc",
   "metadata": {},
   "outputs": [],
   "source": [
    "# pydantic 모델을 사용하여 입력값 검증\n",
    "# class WeatherInput(BaseModel):\n",
    "#     city : str = Field(description=\"날씨를 조회할 도시 이름(영문)\")\n",
    "\n",
    "# class MyClass:\n",
    "#     def __init__(self, ab: str):\n",
    "#         self.city = ab\n",
    "\n",
    "# MyClass(ab=100)  # 사용자가 의도한 문자열이 전달되지 않아도 python은 타입에러를 발생시키지 않음\n",
    "# result = WeatherInput( city=100)    # pydantic 모델은 타입에러를 발생시킴\n",
    "# result.city"
   ]
  },
  {
   "cell_type": "code",
   "execution_count": 5,
   "id": "d831e601",
   "metadata": {},
   "outputs": [
    {
     "data": {
      "text/plain": [
       "'seoul의 현재 기온은 25.76도이며, 날씨는 약간의 구름이 낀 하늘입니다.'"
      ]
     },
     "execution_count": 5,
     "metadata": {},
     "output_type": "execute_result"
    }
   ],
   "source": [
    "get_weather('seoul')"
   ]
  },
  {
   "cell_type": "markdown",
   "id": "de8c1629",
   "metadata": {},
   "source": [
    "뉴스검색"
   ]
  },
  {
   "cell_type": "code",
   "execution_count": 6,
   "id": "36b07c17",
   "metadata": {},
   "outputs": [],
   "source": [
    "class NewsInput(BaseModel):\n",
    "    keyword: str = Field(description=\"뉴스를 조회할 키워드\")\n",
    "    \n",
    "def get_news(keyword:str) -> str:\n",
    "    import requests\n",
    "    api_key = os.getenv(\"NEWSAPI_API_KEY\")\n",
    "    url = \"https://newsapi.org/v2/everything\"\n",
    "    params = {\n",
    "        \"q\": keyword,\n",
    "        \"apiKey\": api_key,\n",
    "        \"language\": \"ko\",\n",
    "        \"sortBy\": \"publishedAt\",  #최신뉴스\n",
    "        \"pageSize\": 1  # 최근 1건\n",
    "    }\n",
    "    response = requests.get(url, params=params)\n",
    "    data = response.json()    \n",
    "    articles = data.get('articles')\n",
    "    if not articles:\n",
    "        return \"해당 키워드에 대한 뉴스가 없습니다.\"\n",
    "    \n",
    "    # 가장 첫번째 뉴스선택\n",
    "    top_news = articles[0]\n",
    "    title = top_news.get('title', '제목 없음')\n",
    "    source = top_news.get('source', {}).get('name', '출처 없음')\n",
    "    return f'{keyword}에 대한 최신 뉴스: \"{title}\" (출처: {source})'"
   ]
  },
  {
   "cell_type": "code",
   "execution_count": 7,
   "id": "f3966019",
   "metadata": {},
   "outputs": [
    {
     "name": "stdout",
     "output_type": "stream",
     "text": [
      "취업에 대한 최신 뉴스: \"울산시, '광역 비자 시범 대상지'로 최종 선정\" (출처: Ohmynews.com)\n"
     ]
    }
   ],
   "source": [
    "print(get_news('취업'))"
   ]
  },
  {
   "cell_type": "markdown",
   "id": "bb4145a5",
   "metadata": {},
   "source": [
    "LangChain Tool 객체로 변환\n",
    "```\n",
    "get_weather, get_news 함수를 Tool로 등록\n",
    "```"
   ]
  },
  {
   "cell_type": "code",
   "execution_count": 20,
   "id": "85b69aa0",
   "metadata": {},
   "outputs": [],
   "source": [
    "# from langchain_core.runnables import RunnableLambda\n",
    "# # 날씨함수 runnable -> tool 변환\n",
    "# weather_runnable = RunnableLambda(lambda input: get_weather(input['city']))\n",
    "# weather_tool = weather_runnable.as_tool(\n",
    "#     name=\"get_weather\",\n",
    "#     description=\"도시의 현재 날씨 정보를 반환합니다.\",\n",
    "#     args_schema=WeatherInput\n",
    "# )  \n",
    "# # 뉴스함수 runnable -> tool 변환\n",
    "# news_runnable = RunnableLambda(lambda input: get_news(input['keyword']))\n",
    "# news_tool = news_runnable.as_tool(\n",
    "#     name=\"get_news\",\n",
    "#     description=\"키워드에 대한 최신 뉴스 정보를 반환합니다.\",\n",
    "#     args_schema=NewsInput\n",
    "# )\n",
    "# print(f'tool 이름:{weather_tool.name} 설명 : {weather_tool.description}')\n",
    "# print(f'tool 이름:{news_tool.name} 설명 : {news_tool.description}')\n",
    "from langchain.tools import Tool\n",
    "# 날씨함수 tool 변환\n",
    "weather_tool = Tool(\n",
    "    name=\"get_weather\",\n",
    "    func=get_weather,\n",
    "    description=\"도시의 현재 날씨 정보를 반환합니다.\",\n",
    "    args_schema=WeatherInput\n",
    ")\n",
    "# 뉴스함수 tool 변환\n",
    "news_tool = Tool(\n",
    "    name=\"get_news\",\n",
    "    func=get_news,\n",
    "    description=\"키워드에 대한 최신 뉴스 정보를 반환합니다.\",\n",
    "    args_schema=NewsInput\n",
    ")"
   ]
  },
  {
   "cell_type": "code",
   "execution_count": 21,
   "id": "c9687fed",
   "metadata": {},
   "outputs": [
    {
     "name": "stdout",
     "output_type": "stream",
     "text": [
      "현재 서울의 날씨는 실시간으로 확인할 수 없지만, 일반적으로 10월의 서울은 가을 날씨로 쌀쌀하고 맑은 날이 많습니다. 평균 기온은 약 10도에서 20도 사이입니다. 구체적인 날씨 정보는 기상청 웹사이트나 날씨 앱을 통해 확인하시기 바랍니다. 추가로 궁금한 점이 있으면 말씀해 주세요!\n"
     ]
    }
   ],
   "source": [
    "# 툴없이 \n",
    "from langchain_openai import ChatOpenAI\n",
    "# 프롬프트 템플릿\n",
    "from langchain_core.prompts import ChatPromptTemplate\n",
    "# 출력 파서\n",
    "from langchain_core.output_parsers import StrOutputParser\n",
    "user_question = '서울 날씨 알려줘'\n",
    "# 사용자 질문을 처리하는 프롬프트 템플릿\n",
    "user_prompt = ChatPromptTemplate.from_messages([\n",
    "    (\"system\", \"당신은 날씨와 뉴스 정보를 제공하는 AI입니다.\"),\n",
    "    (\"human\", \"{question}\")\n",
    "])\n",
    "llm = ChatOpenAI(model=\"gpt-4o-mini\", temperature=0.0)\n",
    "chain = user_prompt | llm | StrOutputParser()\n",
    "# 사용자 질문을 처리하는 체인 실행\n",
    "result = chain.invoke({\"question\": user_question})\n",
    "print(result)\n"
   ]
  },
  {
   "cell_type": "markdown",
   "id": "fbbb19d2",
   "metadata": {},
   "source": [
    "LLM 최종 답변 생성 요청"
   ]
  },
  {
   "cell_type": "code",
   "execution_count": 22,
   "id": "b0a785ee",
   "metadata": {},
   "outputs": [
    {
     "name": "stdout",
     "output_type": "stream",
     "text": [
      "현재 서울의 날씨는 약간의 구름이 낀 상태이며, 기온은 25.76도입니다. 날씨가 비교적 따뜻하니 외출 시 가벼운 옷차림이 좋을 것 같습니다. 추가적인 날씨 정보가 필요하시면 말씀해 주세요!\n"
     ]
    }
   ],
   "source": [
    "from langchain.schema import AIMessage, HumanMessage, SystemMessage\n",
    "# 프롬프트구성 : 시스템메시지 + 사용자 질문 + 결과를 맥락으로 제공\n",
    "weather_info = get_weather('seoul')\n",
    "system_prompt = \"당신은 유용한 AI 어시스턴트입니다. 사용자 질문에 맞게 제공된 정보를 활용해 답변하세요\"\n",
    "tool_info_prompt = f'도구가 제공한 추가 정보:{weather_info}'\n",
    "ask_prompt = '위 정보를 참고해서 사용자 질문에 답변하세요'\n",
    "messages = [\n",
    "    SystemMessage(content=system_prompt),\n",
    "    HumanMessage(content=user_question),\n",
    "    AIMessage(content=tool_info_prompt),  #도구 결과를 마치 ai의 답변처럼 추가가\n",
    "    HumanMessage(content=ask_prompt)\n",
    "]\n",
    "result = llm(messages)   # LLM에 메시지 전달\n",
    "print(result.content)"
   ]
  },
  {
   "cell_type": "markdown",
   "id": "663df60f",
   "metadata": {},
   "source": [
    "여러 tool을 연결하도록 에이전트 구성"
   ]
  },
  {
   "cell_type": "code",
   "execution_count": 23,
   "id": "0a35bb35",
   "metadata": {},
   "outputs": [],
   "source": [
    "# 에이전트를 생성하고 등록\n",
    "\n",
    "from langchain.agents import initialize_agent, AgentType\n",
    "# 앞에서 만든 tool 객체 리스트를 준비\n",
    "tools = [weather_tool, news_tool]\n",
    "# openai 함수기반 에이전트 생성\n",
    "agent = initialize_agent(\n",
    "    tools=tools,\n",
    "    llm=llm,\n",
    "    agent_type=AgentType.OPENAI_FUNCTIONS,\n",
    "    verbose=True  # 에이전트의 동작을 출력하도록 설정\n",
    ")"
   ]
  },
  {
   "cell_type": "code",
   "execution_count": 24,
   "id": "aeaa5835",
   "metadata": {},
   "outputs": [
    {
     "name": "stdout",
     "output_type": "stream",
     "text": [
      "\n",
      "\n",
      "\u001b[1m> Entering new AgentExecutor chain...\u001b[0m\n",
      "\u001b[32;1m\u001b[1;3m서울의 날씨와 오늘자 최신 뉴스를 알아보아야 한다. 먼저 서울의 날씨 정보를 확인하겠다.\n",
      "Action: get_weather\n",
      "Action Input: \"서울\"\u001b[0m\n",
      "Observation: \u001b[36;1m\u001b[1;3m날씨 정보를 가져올 수 없습니다.\u001b[0m\n",
      "Thought:\u001b[32;1m\u001b[1;3m날씨 정보를 가져오는 데 문제가 발생했다. 대신 최신 뉴스를 먼저 확인해보겠다.\n",
      "Action: get_news\n",
      "Action Input: \"서울\"\u001b[0m\n",
      "Observation: \u001b[33;1m\u001b[1;3m서울에 대한 최신 뉴스: \"무협, 한국고용정보원과 ‘산업 현장 인력난 해소’ MOU 체결\" (출처: Venturesquare.net)\u001b[0m\n",
      "Thought:\u001b[32;1m\u001b[1;3m서울의 최신 뉴스는 확인했지만 날씨 정보는 가져올 수 없었다. 날씨 정보를 다시 시도해보겠다.\n",
      "Action: get_weather\n",
      "Action Input: \"서울\"\u001b[0m\n",
      "Observation: \u001b[36;1m\u001b[1;3m날씨 정보를 가져올 수 없습니다.\u001b[0m\n",
      "Thought:\u001b[32;1m\u001b[1;3m날씨 정보를 여전히 가져올 수 없는 상황이다. 하지만 서울에 대한 최신 뉴스는 확인했으므로, 날씨 정보를 확인할 수 있는 다른 방법이 필요할 것 같다. 그러나 현재로서는 추가적인 조치를 취할 수 없다. \n",
      "Final Answer: 서울의 최신 뉴스는 \"무협, 한국고용정보원과 ‘산업 현장 인력난 해소’ MOU 체결\"입니다. 날씨 정보는 확인할 수 없었습니다.\u001b[0m\n",
      "\n",
      "\u001b[1m> Finished chain.\u001b[0m\n",
      "에이전트 응답: {'input': '서울 날씨와 오늘자 최신뉴스를 알려줘', 'output': '서울의 최신 뉴스는 \"무협, 한국고용정보원과 ‘산업 현장 인력난 해소’ MOU 체결\"입니다. 날씨 정보는 확인할 수 없었습니다.'}\n"
     ]
    }
   ],
   "source": [
    "# 에이전트 실행 : 단일 툴 선택\n",
    "query1 = \"서울 날씨와 오늘자 최신뉴스를 알려줘\"\n",
    "result1 = agent.invoke({\"input\": query1})\n",
    "print(f\"에이전트 응답: {result1}\")"
   ]
  },
  {
   "cell_type": "code",
   "execution_count": null,
   "id": "a9b5978d",
   "metadata": {},
   "outputs": [],
   "source": []
  }
 ],
 "metadata": {
  "kernelspec": {
   "display_name": "LLM",
   "language": "python",
   "name": "python3"
  },
  "language_info": {
   "codemirror_mode": {
    "name": "ipython",
    "version": 3
   },
   "file_extension": ".py",
   "mimetype": "text/x-python",
   "name": "python",
   "nbconvert_exporter": "python",
   "pygments_lexer": "ipython3",
   "version": "3.10.17"
  }
 },
 "nbformat": 4,
 "nbformat_minor": 5
}
