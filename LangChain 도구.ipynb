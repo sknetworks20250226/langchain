{
 "cells": [
  {
   "cell_type": "markdown",
   "id": "e6bd1f3c",
   "metadata": {},
   "source": [
    "LangChain Tool\n",
    "```\n",
    "Tool : llm에이전트가 수행할수 있는 외부기능이나 api를 말함(날씨정보나 웹검색,게산기)\n",
    "이유 : gpt는 최신정보에 접근할수 없다.\n",
    "구조 : 이름 설명 함수실행로직\n",
    "툴 호출 방식 :  GPT-4 모델들은 OpenAI의 함수호출 기능을 통해 툴을 직접 호출할수 있다다\n",
    "```\n",
    "외부 API 호출 Tool 구현(날씨API, 뉴스API)"
   ]
  },
  {
   "cell_type": "code",
   "execution_count": 1,
   "id": "987f8fe2",
   "metadata": {},
   "outputs": [
    {
     "name": "stdout",
     "output_type": "stream",
     "text": [
      "Requirement already satisfied: langchain-core in c:\\users\\user\\miniconda3\\envs\\llm\\lib\\site-packages (0.3.61)\n",
      "Requirement already satisfied: langchain-openai in c:\\users\\user\\miniconda3\\envs\\llm\\lib\\site-packages (0.3.18)\n",
      "Requirement already satisfied: openai in c:\\users\\user\\miniconda3\\envs\\llm\\lib\\site-packages (1.82.0)\n",
      "Requirement already satisfied: python-dotenv in c:\\users\\user\\miniconda3\\envs\\llm\\lib\\site-packages (1.1.0)\n",
      "Requirement already satisfied: requests in c:\\users\\user\\miniconda3\\envs\\llm\\lib\\site-packages (2.32.3)\n",
      "Requirement already satisfied: langsmith<0.4,>=0.1.126 in c:\\users\\user\\miniconda3\\envs\\llm\\lib\\site-packages (from langchain-core) (0.3.42)\n",
      "Requirement already satisfied: tenacity!=8.4.0,<10.0.0,>=8.1.0 in c:\\users\\user\\miniconda3\\envs\\llm\\lib\\site-packages (from langchain-core) (9.1.2)\n",
      "Requirement already satisfied: jsonpatch<2.0,>=1.33 in c:\\users\\user\\miniconda3\\envs\\llm\\lib\\site-packages (from langchain-core) (1.33)\n",
      "Requirement already satisfied: PyYAML>=5.3 in c:\\users\\user\\miniconda3\\envs\\llm\\lib\\site-packages (from langchain-core) (6.0.2)\n",
      "Requirement already satisfied: packaging<25,>=23.2 in c:\\users\\user\\miniconda3\\envs\\llm\\lib\\site-packages (from langchain-core) (24.2)\n",
      "Requirement already satisfied: typing-extensions>=4.7 in c:\\users\\user\\miniconda3\\envs\\llm\\lib\\site-packages (from langchain-core) (4.13.2)\n",
      "Requirement already satisfied: pydantic>=2.7.4 in c:\\users\\user\\miniconda3\\envs\\llm\\lib\\site-packages (from langchain-core) (2.10.3)\n",
      "Requirement already satisfied: jsonpointer>=1.9 in c:\\users\\user\\miniconda3\\envs\\llm\\lib\\site-packages (from jsonpatch<2.0,>=1.33->langchain-core) (3.0.0)\n",
      "Requirement already satisfied: httpx<1,>=0.23.0 in c:\\users\\user\\miniconda3\\envs\\llm\\lib\\site-packages (from langsmith<0.4,>=0.1.126->langchain-core) (0.28.1)\n",
      "Requirement already satisfied: orjson<4.0.0,>=3.9.14 in c:\\users\\user\\miniconda3\\envs\\llm\\lib\\site-packages (from langsmith<0.4,>=0.1.126->langchain-core) (3.10.18)\n",
      "Requirement already satisfied: requests-toolbelt<2.0.0,>=1.0.0 in c:\\users\\user\\miniconda3\\envs\\llm\\lib\\site-packages (from langsmith<0.4,>=0.1.126->langchain-core) (1.0.0)\n",
      "Requirement already satisfied: zstandard<0.24.0,>=0.23.0 in c:\\users\\user\\miniconda3\\envs\\llm\\lib\\site-packages (from langsmith<0.4,>=0.1.126->langchain-core) (0.23.0)\n",
      "Requirement already satisfied: charset-normalizer<4,>=2 in c:\\users\\user\\miniconda3\\envs\\llm\\lib\\site-packages (from requests) (3.3.2)\n",
      "Requirement already satisfied: idna<4,>=2.5 in c:\\users\\user\\miniconda3\\envs\\llm\\lib\\site-packages (from requests) (3.7)\n",
      "Requirement already satisfied: urllib3<3,>=1.21.1 in c:\\users\\user\\miniconda3\\envs\\llm\\lib\\site-packages (from requests) (2.4.0)\n",
      "Requirement already satisfied: certifi>=2017.4.17 in c:\\users\\user\\miniconda3\\envs\\llm\\lib\\site-packages (from requests) (2025.4.26)\n",
      "Requirement already satisfied: anyio in c:\\users\\user\\miniconda3\\envs\\llm\\lib\\site-packages (from httpx<1,>=0.23.0->langsmith<0.4,>=0.1.126->langchain-core) (4.9.0)\n",
      "Requirement already satisfied: httpcore==1.* in c:\\users\\user\\miniconda3\\envs\\llm\\lib\\site-packages (from httpx<1,>=0.23.0->langsmith<0.4,>=0.1.126->langchain-core) (1.0.9)\n",
      "Requirement already satisfied: h11>=0.16 in c:\\users\\user\\miniconda3\\envs\\llm\\lib\\site-packages (from httpcore==1.*->httpx<1,>=0.23.0->langsmith<0.4,>=0.1.126->langchain-core) (0.16.0)\n",
      "Requirement already satisfied: annotated-types>=0.6.0 in c:\\users\\user\\miniconda3\\envs\\llm\\lib\\site-packages (from pydantic>=2.7.4->langchain-core) (0.6.0)\n",
      "Requirement already satisfied: pydantic-core==2.27.1 in c:\\users\\user\\miniconda3\\envs\\llm\\lib\\site-packages (from pydantic>=2.7.4->langchain-core) (2.27.1)\n",
      "Requirement already satisfied: tiktoken<1,>=0.7 in c:\\users\\user\\miniconda3\\envs\\llm\\lib\\site-packages (from langchain-openai) (0.9.0)\n",
      "Requirement already satisfied: distro<2,>=1.7.0 in c:\\users\\user\\miniconda3\\envs\\llm\\lib\\site-packages (from openai) (1.9.0)\n",
      "Requirement already satisfied: jiter<1,>=0.4.0 in c:\\users\\user\\miniconda3\\envs\\llm\\lib\\site-packages (from openai) (0.6.1)\n",
      "Requirement already satisfied: sniffio in c:\\users\\user\\miniconda3\\envs\\llm\\lib\\site-packages (from openai) (1.3.0)\n",
      "Requirement already satisfied: tqdm>4 in c:\\users\\user\\miniconda3\\envs\\llm\\lib\\site-packages (from openai) (4.67.1)\n",
      "Requirement already satisfied: exceptiongroup>=1.0.2 in c:\\users\\user\\miniconda3\\envs\\llm\\lib\\site-packages (from anyio->httpx<1,>=0.23.0->langsmith<0.4,>=0.1.126->langchain-core) (1.3.0)\n",
      "Requirement already satisfied: regex>=2022.1.18 in c:\\users\\user\\miniconda3\\envs\\llm\\lib\\site-packages (from tiktoken<1,>=0.7->langchain-openai) (2024.11.6)\n",
      "Requirement already satisfied: colorama in c:\\users\\user\\miniconda3\\envs\\llm\\lib\\site-packages (from tqdm>4->openai) (0.4.6)\n",
      "Note: you may need to restart the kernel to use updated packages.\n"
     ]
    }
   ],
   "source": [
    "%pip install langchain-core langchain-openai openai python-dotenv requests"
   ]
  },
  {
   "cell_type": "code",
   "execution_count": 2,
   "id": "0fa54798",
   "metadata": {},
   "outputs": [
    {
     "name": "stdout",
     "output_type": "stream",
     "text": [
      "83e83\n",
      "7ca03\n"
     ]
    }
   ],
   "source": [
    "# .env 로드\n",
    "from dotenv import load_dotenv\n",
    "import os\n",
    "load_dotenv()\n",
    "\n",
    "print(os.environ[\"OPEN_WEATHER_MAP\"][:5])\n",
    "print(os.environ[\"NEWSAPI_API_KEY\"][:5])"
   ]
  },
  {
   "cell_type": "code",
   "execution_count": 42,
   "id": "3d646ce3",
   "metadata": {},
   "outputs": [],
   "source": [
    "import requests\n",
    "from pydantic import BaseModel, Field\n",
    "\n",
    "# 입력 스키마 정의\n",
    "class WeatherInput(BaseModel):\n",
    "    city: str = Field(description=\"날씨를 조회할 도시 이름 (영문)\")\n",
    "\n",
    "def get_weather(city: str) -> str:\n",
    "    \"\"\"주어진 도시의 현재 날씨를 반환합니다.\"\"\"\n",
    "    api_key = os.getenv(\"OPENWEATHERMAP_API_KEY\")\n",
    "    url = \"http://api.openweathermap.org/data/2.5/weather\"\n",
    "    params = {\n",
    "        \"q\": city,\n",
    "        \"appid\": api_key,\n",
    "        \"units\": \"metric\",      # 섭씨 온도\n",
    "        \"lang\": \"kr\"            # 한국어 응답 (설명이 한국어로 오도록)\n",
    "    }\n",
    "    response = requests.get(url, params=params)\n",
    "    data = response.json()\n",
    "    # API 응답에 따른 처리\n",
    "    if data.get(\"cod\") != 200:\n",
    "        # 도시 정보를 찾지 못한 경우\n",
    "        return f\"'{city}'의 날씨 정보를 찾을 수 없습니다.\"\n",
    "    # 필요한 정보 파싱\n",
    "    temp = data[\"main\"][\"temp\"]\n",
    "    desc = data[\"weather\"][0][\"description\"]\n",
    "    city_name = data[\"name\"]  # 응답에 있는 도시 이름 (영문일 수 있음)\n",
    "    return f\"{city_name}의 현재 기온은 {temp}℃, 날씨는 {desc}입니다.\""
   ]
  },
  {
   "cell_type": "code",
   "execution_count": 4,
   "id": "0f1a43fc",
   "metadata": {},
   "outputs": [],
   "source": [
    "# pydantic 모델을 사용하여 입력값 검증\n",
    "# class WeatherInput(BaseModel):\n",
    "#     city : str = Field(description=\"날씨를 조회할 도시 이름(영문)\")\n",
    "\n",
    "# class MyClass:\n",
    "#     def __init__(self, ab: str):\n",
    "#         self.city = ab\n",
    "\n",
    "# MyClass(ab=100)  # 사용자가 의도한 문자열이 전달되지 않아도 python은 타입에러를 발생시키지 않음\n",
    "# result = WeatherInput( city=100)    # pydantic 모델은 타입에러를 발생시킴\n",
    "# result.city"
   ]
  },
  {
   "cell_type": "code",
   "execution_count": 5,
   "id": "d831e601",
   "metadata": {},
   "outputs": [
    {
     "data": {
      "text/plain": [
       "'seoul의 현재 기온은 25.76도이며, 날씨는 약간의 구름이 낀 하늘입니다.'"
      ]
     },
     "execution_count": 5,
     "metadata": {},
     "output_type": "execute_result"
    }
   ],
   "source": [
    "get_weather('seoul')"
   ]
  },
  {
   "cell_type": "markdown",
   "id": "de8c1629",
   "metadata": {},
   "source": [
    "뉴스검색"
   ]
  },
  {
   "cell_type": "code",
   "execution_count": 43,
   "id": "36b07c17",
   "metadata": {},
   "outputs": [],
   "source": [
    "class NewsInput(BaseModel):\n",
    "    keyword: str = Field(description=\"뉴스를 조회할 키워드\")\n",
    "    \n",
    "def get_news(keyword:str) -> str:\n",
    "    import requests\n",
    "    api_key = os.getenv(\"NEWSAPI_API_KEY\")\n",
    "    url = \"https://newsapi.org/v2/everything\"\n",
    "    params = {\n",
    "        \"q\": keyword,\n",
    "        \"apiKey\": api_key,\n",
    "        \"language\": \"ko\",\n",
    "        \"sortBy\": \"publishedAt\",  #최신뉴스\n",
    "        \"pageSize\": 1  # 최근 1건\n",
    "    }\n",
    "    response = requests.get(url, params=params)\n",
    "    data = response.json()    \n",
    "    articles = data.get('articles')\n",
    "    if not articles:\n",
    "        return \"해당 키워드에 대한 뉴스가 없습니다.\"\n",
    "    \n",
    "    # 가장 첫번째 뉴스선택\n",
    "    top_news = articles[0]\n",
    "    title = top_news.get('title', '제목 없음')\n",
    "    source = top_news.get('source', {}).get('name', '출처 없음')\n",
    "    return f'{keyword}에 대한 최신 뉴스: \"{title}\" (출처: {source})'"
   ]
  },
  {
   "cell_type": "code",
   "execution_count": 7,
   "id": "f3966019",
   "metadata": {},
   "outputs": [
    {
     "name": "stdout",
     "output_type": "stream",
     "text": [
      "취업에 대한 최신 뉴스: \"울산시, '광역 비자 시범 대상지'로 최종 선정\" (출처: Ohmynews.com)\n"
     ]
    }
   ],
   "source": [
    "print(get_news('취업'))"
   ]
  },
  {
   "cell_type": "markdown",
   "id": "bb4145a5",
   "metadata": {},
   "source": [
    "LangChain Tool 객체로 변환\n",
    "```\n",
    "get_weather, get_news 함수를 Tool로 등록\n",
    "```"
   ]
  },
  {
   "cell_type": "code",
   "execution_count": 44,
   "id": "85b69aa0",
   "metadata": {},
   "outputs": [
    {
     "name": "stdout",
     "output_type": "stream",
     "text": [
      "Tool 이름: get_weather, 설명: 도시 이름(영문)을 입력하면 현재 날씨를 알려주는 도구\n",
      "Tool 이름: get_news, 설명: 키워드를 입력하면 관련된 최신 뉴스 제목을 알려주는 도구\n"
     ]
    }
   ],
   "source": [
    "from langchain_core.runnables import RunnableLambda\n",
    "\n",
    "# 날씨 함수 runnable -> tool 변환\n",
    "weather_runnable = RunnableLambda(lambda input: get_weather(input[\"city\"]))\n",
    "weather_tool = weather_runnable.as_tool(\n",
    "    name=\"get_weather\",\n",
    "    description=\"도시 이름(영문)을 입력하면 현재 날씨를 알려주는 도구\",\n",
    "    args_schema=WeatherInput\n",
    ")\n",
    "\n",
    "# 뉴스 함수 runnable -> tool 변환\n",
    "news_runnable = RunnableLambda(lambda input: get_news(input[\"keyword\"]))\n",
    "news_tool = news_runnable.as_tool(\n",
    "    name=\"get_news\",\n",
    "    description=\"키워드를 입력하면 관련된 최신 뉴스 제목을 알려주는 도구\",\n",
    "    args_schema=NewsInput\n",
    ")\n",
    "\n",
    "print(f\"Tool 이름: {weather_tool.name}, 설명: {weather_tool.description}\")\n",
    "print(f\"Tool 이름: {news_tool.name}, 설명: {news_tool.description}\")"
   ]
  },
  {
   "cell_type": "code",
   "execution_count": 36,
   "id": "c9687fed",
   "metadata": {},
   "outputs": [
    {
     "name": "stdout",
     "output_type": "stream",
     "text": [
      "현재 서울의 날씨 정보를 실시간으로 제공할 수는 없지만, 일반적으로 10월의 서울 날씨는 선선하고 맑은 날이 많습니다. 평균 기온은 약 10도에서 20도 사이이며, 가끔 비가 내릴 수도 있습니다. 정확한 날씨 정보를 원하신다면 기상청 웹사이트나 날씨 앱을 확인해 보시기 바랍니다.\n"
     ]
    }
   ],
   "source": [
    "# 툴없이 \n",
    "from langchain_openai import ChatOpenAI\n",
    "# 프롬프트 템플릿\n",
    "from langchain_core.prompts import ChatPromptTemplate\n",
    "# 출력 파서\n",
    "from langchain_core.output_parsers import StrOutputParser\n",
    "user_question = '서울 날씨 알려줘'\n",
    "# 사용자 질문을 처리하는 프롬프트 템플릿\n",
    "user_prompt = ChatPromptTemplate.from_messages([\n",
    "    (\"system\", \"당신은 날씨와 뉴스 정보를 제공하는 AI입니다.\"),\n",
    "    (\"human\", \"{question}\")\n",
    "])\n",
    "llm = ChatOpenAI(model=\"gpt-4o-mini\", temperature=0.0)\n",
    "chain = user_prompt | llm | StrOutputParser()\n",
    "# 사용자 질문을 처리하는 체인 실행\n",
    "result = chain.invoke({\"question\": user_question})\n",
    "print(result)\n"
   ]
  },
  {
   "cell_type": "markdown",
   "id": "fbbb19d2",
   "metadata": {},
   "source": [
    "LLM 최종 답변 생성 요청"
   ]
  },
  {
   "cell_type": "code",
   "execution_count": 37,
   "id": "b0a785ee",
   "metadata": {},
   "outputs": [
    {
     "name": "stdout",
     "output_type": "stream",
     "text": [
      "현재 서울의 날씨는 약간의 구름이 낀 상태이며, 기온은 25.76도입니다. 외출 시 가벼운 옷차림이 적합할 것 같습니다. 추가적인 날씨 정보가 필요하시면 말씀해 주세요!\n"
     ]
    }
   ],
   "source": [
    "from langchain.schema import AIMessage, HumanMessage, SystemMessage\n",
    "# 프롬프트구성 : 시스템메시지 + 사용자 질문 + 결과를 맥락으로 제공\n",
    "weather_info = get_weather('seoul')\n",
    "system_prompt = \"당신은 유용한 AI 어시스턴트입니다. 사용자 질문에 맞게 제공된 정보를 활용해 답변하세요\"\n",
    "tool_info_prompt = f'도구가 제공한 추가 정보:{weather_info}'\n",
    "ask_prompt = '위 정보를 참고해서 사용자 질문에 답변하세요'\n",
    "messages = [\n",
    "    SystemMessage(content=system_prompt),\n",
    "    HumanMessage(content=user_question),\n",
    "    AIMessage(content=tool_info_prompt),  #도구 결과를 마치 ai의 답변처럼 추가가\n",
    "    HumanMessage(content=ask_prompt)\n",
    "]\n",
    "result = llm(messages)   # LLM에 메시지 전달\n",
    "print(result.content)"
   ]
  },
  {
   "cell_type": "markdown",
   "id": "663df60f",
   "metadata": {},
   "source": [
    "여러 tool을 연결하도록 에이전트 구성"
   ]
  },
  {
   "cell_type": "code",
   "execution_count": 45,
   "id": "0a35bb35",
   "metadata": {},
   "outputs": [],
   "source": [
    "from langchain.agents import initialize_agent, AgentType\n",
    "\n",
    "# 앞서 만든 Tool 객체 리스트 준비\n",
    "tools = [weather_tool, news_tool]\n",
    "\n",
    "# OpenAI 함수 기반 에이전트 생성\n",
    "agent = initialize_agent(\n",
    "    tools=tools,\n",
    "    llm=llm,\n",
    "    agent=AgentType.OPENAI_FUNCTIONS,\n",
    "    verbose=True  # intermediate 단계 로그를 출력하여 확인\n",
    ")"
   ]
  },
  {
   "cell_type": "code",
   "execution_count": 46,
   "id": "aeaa5835",
   "metadata": {},
   "outputs": [
    {
     "name": "stdout",
     "output_type": "stream",
     "text": [
      "\n",
      "\n",
      "\u001b[1m> Entering new AgentExecutor chain...\u001b[0m\n",
      "\u001b[32;1m\u001b[1;3m\n",
      "Invoking: `get_weather` with `{'city': 'Seoul'}`\n",
      "\n",
      "\n",
      "\u001b[0m\u001b[36;1m\u001b[1;3m'Seoul'의 날씨 정보를 찾을 수 없습니다.\u001b[0m\u001b[32;1m\u001b[1;3m\n",
      "Invoking: `get_news` with `{'keyword': 'AI'}`\n",
      "\n",
      "\n",
      "\u001b[0m\u001b[33;1m\u001b[1;3mAI에 대한 최신 뉴스: \"블룸버그, 카메라 탑재 애플워치 개발 계획 '백지화'\" (출처: Kbench.com)\u001b[0m\u001b[32;1m\u001b[1;3m서울의 날씨 정보를 찾을 수 없었습니다. 대신 AI 관련 최신 뉴스는 다음과 같습니다:\n",
      "\n",
      "- **\"블룸버그, 카메라 탑재 애플워치 개발 계획 '백지화'\"** (출처: Kbench.com)\n",
      "\n",
      "더 궁금한 점이 있으면 말씀해 주세요!\u001b[0m\n",
      "\n",
      "\u001b[1m> Finished chain.\u001b[0m\n",
      "Agent Result 1: 서울의 날씨 정보를 찾을 수 없었습니다. 대신 AI 관련 최신 뉴스는 다음과 같습니다:\n",
      "\n",
      "- **\"블룸버그, 카메라 탑재 애플워치 개발 계획 '백지화'\"** (출처: Kbench.com)\n",
      "\n",
      "더 궁금한 점이 있으면 말씀해 주세요!\n"
     ]
    }
   ],
   "source": [
    "query1 = \"서울의 날씨와 AI 관련 최신 뉴스를 알려줘.\"\n",
    "result1 = agent.run(query1)\n",
    "print(\"Agent Result 1:\", result1)"
   ]
  },
  {
   "cell_type": "code",
   "execution_count": null,
   "id": "a9b5978d",
   "metadata": {},
   "outputs": [],
   "source": []
  }
 ],
 "metadata": {
  "kernelspec": {
   "display_name": "LLM",
   "language": "python",
   "name": "python3"
  },
  "language_info": {
   "codemirror_mode": {
    "name": "ipython",
    "version": 3
   },
   "file_extension": ".py",
   "mimetype": "text/x-python",
   "name": "python",
   "nbconvert_exporter": "python",
   "pygments_lexer": "ipython3",
   "version": "3.10.17"
  }
 },
 "nbformat": 4,
 "nbformat_minor": 5
}
