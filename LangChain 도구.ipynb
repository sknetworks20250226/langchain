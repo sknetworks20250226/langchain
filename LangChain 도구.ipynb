{
 "cells": [
  {
   "cell_type": "markdown",
   "id": "e6bd1f3c",
   "metadata": {},
   "source": [
    "LangChain Tool\n",
    "```\n",
    "Tool : llm에이전트가 수행할수 있는 외부기능이나 api를 말함(날씨정보나 웹검색,게산기)\n",
    "이유 : gpt는 최신정보에 접근할수 없다.\n",
    "구조 : 이름 설명 함수실행로직\n",
    "툴 호출 방식 :  GPT-4 모델들은 OpenAI의 함수호출 기능을 통해 툴을 직접 호출할수 있다다\n",
    "```\n",
    "외부 API 호출 Tool 구현(날씨API, 뉴스API)"
   ]
  },
  {
   "cell_type": "code",
   "execution_count": null,
   "id": "987f8fe2",
   "metadata": {},
   "outputs": [],
   "source": [
    "%pip install langchain-core langchain-openai openai python-dotenv requests"
   ]
  },
  {
   "cell_type": "code",
   "execution_count": 4,
   "id": "0fa54798",
   "metadata": {},
   "outputs": [
    {
     "name": "stdout",
     "output_type": "stream",
     "text": [
      "83e83\n",
      "7ca03\n"
     ]
    }
   ],
   "source": [
    "# .env 로드\n",
    "from dotenv import load_dotenv\n",
    "import os\n",
    "load_dotenv()\n",
    "\n",
    "print(os.environ[\"OPEN_WEATHER_MAP\"][:5])\n",
    "print(os.environ[\"NEWSAPI_API_KEY\"][:5])"
   ]
  },
  {
   "cell_type": "code",
   "execution_count": 5,
   "id": "3d646ce3",
   "metadata": {},
   "outputs": [],
   "source": [
    "# 날씨정보 조회 함수\n",
    "import re\n",
    "\n",
    "\n",
    "def get_weather(city: str) -> str:\n",
    "    import requests\n",
    "    api_key = os.getenv(\"OPEN_WEATHER_MAP\")\n",
    "    url = \"http://api.openweathermap.org/data/2.5/weather\"\n",
    "    params = {\n",
    "        \"q\":city,\n",
    "        \"appid\": api_key,\n",
    "        \"units\": \"metric\",  # 섭씨온도\n",
    "        \"lang\": \"kr\"  # 한국어\n",
    "    }\n",
    "    response = requests.get(url, params=params)\n",
    "    data =  response.json()\n",
    "    if data.get('cod') != 200:\n",
    "        return \"날씨 정보를 가져올 수 없습니다.\"\n",
    "    temp = data['main']['temp']\n",
    "    desc = data['weather'][0]['description']\n",
    "    return f\"{city}의 현재 기온은 {temp}도이며, 날씨는 {desc}입니다.\""
   ]
  },
  {
   "cell_type": "code",
   "execution_count": 8,
   "id": "d831e601",
   "metadata": {},
   "outputs": [
    {
     "data": {
      "text/plain": [
       "'seoul의 현재 기온은 22.76도이며, 날씨는 연무입니다.'"
      ]
     },
     "execution_count": 8,
     "metadata": {},
     "output_type": "execute_result"
    }
   ],
   "source": [
    "get_weather('seoul')"
   ]
  },
  {
   "cell_type": "markdown",
   "id": "de8c1629",
   "metadata": {},
   "source": [
    "뉴스검색"
   ]
  },
  {
   "cell_type": "code",
   "execution_count": 9,
   "id": "36b07c17",
   "metadata": {},
   "outputs": [],
   "source": [
    "from turtle import title\n",
    "\n",
    "from numpy import source\n",
    "\n",
    "\n",
    "def get_news(keyword:str) -> str:\n",
    "    import requests\n",
    "    api_key = os.getenv(\"NEWSAPI_API_KEY\")\n",
    "    url = \"https://newsapi.org/v2/everything\"\n",
    "    params = {\n",
    "        \"q\": keyword,\n",
    "        \"apiKey\": api_key,\n",
    "        \"language\": \"ko\",\n",
    "        \"sortBy\": \"publishedAt\",  #최신뉴스\n",
    "        \"pageSize\": 1  # 최근 1건\n",
    "    }\n",
    "    response = requests.get(url, params=params)\n",
    "    data = response.json()    \n",
    "    articles = data.get('articles')\n",
    "    if not articles:\n",
    "        return \"해당 키워드에 대한 뉴스가 없습니다.\"\n",
    "    \n",
    "    # 가장 첫번째 뉴스선택\n",
    "    top_news = articles[0]\n",
    "    title = top_news.get('title', '제목 없음')\n",
    "    source = top_news.get('source', {}).get('name', '출처 없음')\n",
    "    return f'{keyword}에 대한 최신 뉴스: \"{title}\" (출처: {source})'"
   ]
  },
  {
   "cell_type": "code",
   "execution_count": 12,
   "id": "f3966019",
   "metadata": {},
   "outputs": [
    {
     "name": "stdout",
     "output_type": "stream",
     "text": [
      "취업에 대한 최신 뉴스: \"취업 시 나를 증명하고 싶다면...\"스펙터\"\" (출처: Zdnet.co.kr)\n"
     ]
    }
   ],
   "source": [
    "print(get_news('취업'))"
   ]
  },
  {
   "cell_type": "code",
   "execution_count": null,
   "id": "bb4145a5",
   "metadata": {},
   "outputs": [],
   "source": []
  }
 ],
 "metadata": {
  "kernelspec": {
   "display_name": "LLM",
   "language": "python",
   "name": "python3"
  },
  "language_info": {
   "codemirror_mode": {
    "name": "ipython",
    "version": 3
   },
   "file_extension": ".py",
   "mimetype": "text/x-python",
   "name": "python",
   "nbconvert_exporter": "python",
   "pygments_lexer": "ipython3",
   "version": "3.10.17"
  }
 },
 "nbformat": 4,
 "nbformat_minor": 5
}
